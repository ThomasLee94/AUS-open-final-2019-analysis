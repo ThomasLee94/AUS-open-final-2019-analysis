{
 "cells": [
  {
   "cell_type": "code",
   "execution_count": null,
   "metadata": {},
   "outputs": [],
   "source": [
    "# Using pandas\n",
    "import pandas as pd\n",
    "\n",
    "PATH_EVENTS = \"data/events.csv\"\n",
    "PATH_POINTS = \"data/points.csv\"\n",
    "PATH_RALLIES = \"data/rallies.csv\"\n",
    "PATH_SERVES = \"data/serves.csv\"\n",
    "\n",
    "df_events = pd.read_csv(PATH_EVENTS)\n",
    "df_points = pd.read_csv(PATH_POINTS)\n",
    "df_rallies = pd.read_csv(PATH_RALLIES)\n",
    "df_serves = pd.read_csv(PATH_SERVES)\n",
    "\n",
    "# data = df[(df['Sex'] == 'female') and (df['Survived'] == 1)]\n",
    "# Have to use logical ampersand \n",
    "data = df[(df['Sex'] == 'female') & (df['Survived'] == 1)]\n",
    "len(data)"
   ]
  }
 ],
 "metadata": {
  "kernelspec": {
   "display_name": "Python 3",
   "language": "python",
   "name": "python3"
  },
  "language_info": {
   "codemirror_mode": {
    "name": "ipython",
    "version": 3
   },
   "file_extension": ".py",
   "mimetype": "text/x-python",
   "name": "python",
   "nbconvert_exporter": "python",
   "pygments_lexer": "ipython3",
   "version": "3.7.1"
  }
 },
 "nbformat": 4,
 "nbformat_minor": 2
}
